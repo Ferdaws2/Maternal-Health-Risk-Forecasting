{
 "cells": [
  {
   "cell_type": "code",
   "execution_count": 1,
   "metadata": {
    "id": "0ynWmGZ5Bbly"
   },
   "outputs": [],
   "source": [
    "import pandas as pd\n",
    "import seaborn as sns\n",
    "import numpy as np\n",
    "from sklearn.model_selection import train_test_split\n",
    "from sklearn.preprocessing import StandardScaler\n",
    "from sklearn.metrics import confusion_matrix, accuracy_score\n",
    "from sklearn.metrics import classification_report"
   ]
  },
  {
   "cell_type": "code",
   "execution_count": 2,
   "metadata": {},
   "outputs": [],
   "source": [
    "import os\n",
    "os.chdir('C:\\\\Users\\\\admin\\\\Downloads')"
   ]
  },
  {
   "cell_type": "code",
   "execution_count": 3,
   "metadata": {
    "id": "_WfmsYRxLEJN"
   },
   "outputs": [],
   "source": [
    "df = pd.read_csv(\"Maternal Health Risk Data Set.csv\",sep=';')"
   ]
  },
  {
   "cell_type": "code",
   "execution_count": 4,
   "metadata": {
    "colab": {
     "base_uri": "https://localhost:8080/",
     "height": 363
    },
    "id": "hebB4jOpMkqU",
    "outputId": "fca3a410-38e8-43c6-b1ac-b750be9749d6"
   },
   "outputs": [
    {
     "data": {
      "text/html": [
       "<div>\n",
       "<style scoped>\n",
       "    .dataframe tbody tr th:only-of-type {\n",
       "        vertical-align: middle;\n",
       "    }\n",
       "\n",
       "    .dataframe tbody tr th {\n",
       "        vertical-align: top;\n",
       "    }\n",
       "\n",
       "    .dataframe thead th {\n",
       "        text-align: right;\n",
       "    }\n",
       "</style>\n",
       "<table border=\"1\" class=\"dataframe\">\n",
       "  <thead>\n",
       "    <tr style=\"text-align: right;\">\n",
       "      <th></th>\n",
       "      <th>Age</th>\n",
       "      <th>SystolicBP</th>\n",
       "      <th>DiastolicBP</th>\n",
       "      <th>BS</th>\n",
       "      <th>BodyTemp</th>\n",
       "      <th>HeartRate</th>\n",
       "      <th>RiskLevel</th>\n",
       "    </tr>\n",
       "  </thead>\n",
       "  <tbody>\n",
       "    <tr>\n",
       "      <th>0</th>\n",
       "      <td>25</td>\n",
       "      <td>130</td>\n",
       "      <td>80</td>\n",
       "      <td>15.00</td>\n",
       "      <td>98.0</td>\n",
       "      <td>86</td>\n",
       "      <td>high risk</td>\n",
       "    </tr>\n",
       "    <tr>\n",
       "      <th>1</th>\n",
       "      <td>35</td>\n",
       "      <td>140</td>\n",
       "      <td>90</td>\n",
       "      <td>13.00</td>\n",
       "      <td>98.0</td>\n",
       "      <td>70</td>\n",
       "      <td>high risk</td>\n",
       "    </tr>\n",
       "    <tr>\n",
       "      <th>2</th>\n",
       "      <td>29</td>\n",
       "      <td>90</td>\n",
       "      <td>70</td>\n",
       "      <td>8.00</td>\n",
       "      <td>100.0</td>\n",
       "      <td>80</td>\n",
       "      <td>high risk</td>\n",
       "    </tr>\n",
       "    <tr>\n",
       "      <th>3</th>\n",
       "      <td>30</td>\n",
       "      <td>140</td>\n",
       "      <td>85</td>\n",
       "      <td>7.00</td>\n",
       "      <td>98.0</td>\n",
       "      <td>70</td>\n",
       "      <td>high risk</td>\n",
       "    </tr>\n",
       "    <tr>\n",
       "      <th>4</th>\n",
       "      <td>35</td>\n",
       "      <td>120</td>\n",
       "      <td>60</td>\n",
       "      <td>6.10</td>\n",
       "      <td>98.0</td>\n",
       "      <td>76</td>\n",
       "      <td>low risk</td>\n",
       "    </tr>\n",
       "    <tr>\n",
       "      <th>5</th>\n",
       "      <td>23</td>\n",
       "      <td>140</td>\n",
       "      <td>80</td>\n",
       "      <td>7.01</td>\n",
       "      <td>98.0</td>\n",
       "      <td>70</td>\n",
       "      <td>high risk</td>\n",
       "    </tr>\n",
       "    <tr>\n",
       "      <th>6</th>\n",
       "      <td>23</td>\n",
       "      <td>130</td>\n",
       "      <td>70</td>\n",
       "      <td>7.01</td>\n",
       "      <td>98.0</td>\n",
       "      <td>78</td>\n",
       "      <td>mid risk</td>\n",
       "    </tr>\n",
       "    <tr>\n",
       "      <th>7</th>\n",
       "      <td>35</td>\n",
       "      <td>85</td>\n",
       "      <td>60</td>\n",
       "      <td>11.00</td>\n",
       "      <td>102.0</td>\n",
       "      <td>86</td>\n",
       "      <td>high risk</td>\n",
       "    </tr>\n",
       "    <tr>\n",
       "      <th>8</th>\n",
       "      <td>32</td>\n",
       "      <td>120</td>\n",
       "      <td>90</td>\n",
       "      <td>6.90</td>\n",
       "      <td>98.0</td>\n",
       "      <td>70</td>\n",
       "      <td>mid risk</td>\n",
       "    </tr>\n",
       "    <tr>\n",
       "      <th>9</th>\n",
       "      <td>42</td>\n",
       "      <td>130</td>\n",
       "      <td>80</td>\n",
       "      <td>18.00</td>\n",
       "      <td>98.0</td>\n",
       "      <td>70</td>\n",
       "      <td>high risk</td>\n",
       "    </tr>\n",
       "  </tbody>\n",
       "</table>\n",
       "</div>"
      ],
      "text/plain": [
       "   Age  SystolicBP  DiastolicBP     BS  BodyTemp  HeartRate  RiskLevel\n",
       "0   25         130           80  15.00      98.0         86  high risk\n",
       "1   35         140           90  13.00      98.0         70  high risk\n",
       "2   29          90           70   8.00     100.0         80  high risk\n",
       "3   30         140           85   7.00      98.0         70  high risk\n",
       "4   35         120           60   6.10      98.0         76   low risk\n",
       "5   23         140           80   7.01      98.0         70  high risk\n",
       "6   23         130           70   7.01      98.0         78   mid risk\n",
       "7   35          85           60  11.00     102.0         86  high risk\n",
       "8   32         120           90   6.90      98.0         70   mid risk\n",
       "9   42         130           80  18.00      98.0         70  high risk"
      ]
     },
     "execution_count": 4,
     "metadata": {},
     "output_type": "execute_result"
    }
   ],
   "source": [
    "df.head(10)"
   ]
  },
  {
   "cell_type": "code",
   "execution_count": 5,
   "metadata": {
    "colab": {
     "base_uri": "https://localhost:8080/"
    },
    "id": "B8vlsIlUOk36",
    "outputId": "8736dfd9-d6a6-4950-a091-835accbd5d40"
   },
   "outputs": [
    {
     "data": {
      "text/plain": [
       "Age              int64\n",
       "SystolicBP       int64\n",
       "DiastolicBP      int64\n",
       "BS             float64\n",
       "BodyTemp       float64\n",
       "HeartRate        int64\n",
       "RiskLevel       object\n",
       "dtype: object"
      ]
     },
     "execution_count": 5,
     "metadata": {},
     "output_type": "execute_result"
    }
   ],
   "source": [
    "df.dtypes"
   ]
  },
  {
   "cell_type": "code",
   "execution_count": 6,
   "metadata": {
    "colab": {
     "base_uri": "https://localhost:8080/"
    },
    "id": "x8U7m_-ACswQ",
    "outputId": "feed23d0-0df9-41c5-a215-599b37c34a7c"
   },
   "outputs": [
    {
     "data": {
      "text/plain": [
       "(1014, 7)"
      ]
     },
     "execution_count": 6,
     "metadata": {},
     "output_type": "execute_result"
    }
   ],
   "source": [
    "df.shape"
   ]
  },
  {
   "cell_type": "markdown",
   "metadata": {
    "id": "KEKysQVAFoS1"
   },
   "source": [
    "Missing Values\n"
   ]
  },
  {
   "cell_type": "code",
   "execution_count": 7,
   "metadata": {
    "colab": {
     "base_uri": "https://localhost:8080/"
    },
    "id": "ciU6Qpk_PXOF",
    "outputId": "1a64c902-8d18-4fff-b0d8-f9d32c2331b5"
   },
   "outputs": [
    {
     "data": {
      "text/plain": [
       "Age            0\n",
       "SystolicBP     0\n",
       "DiastolicBP    0\n",
       "BS             0\n",
       "BodyTemp       0\n",
       "HeartRate      0\n",
       "RiskLevel      0\n",
       "dtype: int64"
      ]
     },
     "execution_count": 7,
     "metadata": {},
     "output_type": "execute_result"
    }
   ],
   "source": [
    "#Miss Values\n",
    "df.isnull().sum()"
   ]
  },
  {
   "cell_type": "code",
   "execution_count": 8,
   "metadata": {
    "colab": {
     "base_uri": "https://localhost:8080/"
    },
    "id": "YiW0xls_P-by",
    "outputId": "38578950-52c1-41de-8634-0662bd3d2618"
   },
   "outputs": [
    {
     "data": {
      "text/plain": [
       "True"
      ]
     },
     "execution_count": 8,
     "metadata": {},
     "output_type": "execute_result"
    }
   ],
   "source": [
    "#Duplicated value \n",
    "data_dup = df.duplicated().any()\n",
    "data_dup\n"
   ]
  },
  {
   "cell_type": "code",
   "execution_count": 9,
   "metadata": {
    "id": "OgEzcI0fcchT"
   },
   "outputs": [],
   "source": [
    "df = df.drop_duplicates()"
   ]
  },
  {
   "cell_type": "code",
   "execution_count": 10,
   "metadata": {
    "colab": {
     "base_uri": "https://localhost:8080/"
    },
    "id": "3xFQD20Hce-s",
    "outputId": "ea208e88-2686-40e8-dc62-1e2db51c22a4"
   },
   "outputs": [
    {
     "data": {
      "text/plain": [
       "False"
      ]
     },
     "execution_count": 10,
     "metadata": {},
     "output_type": "execute_result"
    }
   ],
   "source": [
    "data_dup = df.duplicated().any()\n",
    "data_dup"
   ]
  },
  {
   "cell_type": "code",
   "execution_count": 11,
   "metadata": {
    "id": "BU-siP3VcfJW"
   },
   "outputs": [],
   "source": [
    "ca_val=[]\n",
    "co_val=[]\n",
    "\n",
    "for column in df.columns:\n",
    "    if df[column].nunique() <=10:\n",
    "        ca_val.append(column)\n",
    "    else:\n",
    "        co_val.append(column)"
   ]
  },
  {
   "cell_type": "code",
   "execution_count": 12,
   "metadata": {
    "colab": {
     "base_uri": "https://localhost:8080/"
    },
    "id": "uPxC53zUtwwP",
    "outputId": "bbca175e-d63a-4b88-da44-0d121465e729"
   },
   "outputs": [
    {
     "data": {
      "text/plain": [
       "['BodyTemp', 'RiskLevel']"
      ]
     },
     "execution_count": 12,
     "metadata": {},
     "output_type": "execute_result"
    }
   ],
   "source": [
    "#Categorical Data\n",
    "ca_val"
   ]
  },
  {
   "cell_type": "markdown",
   "metadata": {
    "id": "hnNGxX1DVtob"
   },
   "source": [
    "Feature Engineering"
   ]
  },
  {
   "cell_type": "code",
   "execution_count": 13,
   "metadata": {
    "id": "NYuzluohVs4-"
   },
   "outputs": [],
   "source": [
    "#Data Scaling"
   ]
  },
  {
   "cell_type": "code",
   "execution_count": 14,
   "metadata": {
    "id": "Yo027XWqV1cj"
   },
   "outputs": [],
   "source": [
    "from sklearn.preprocessing import StandardScaler\n",
    "ss = StandardScaler() # Standardization"
   ]
  },
  {
   "cell_type": "code",
   "execution_count": 15,
   "metadata": {
    "id": "vNzGA7O-X1wl"
   },
   "outputs": [],
   "source": [
    "# Standardization"
   ]
  },
  {
   "cell_type": "code",
   "execution_count": 16,
   "metadata": {
    "colab": {
     "base_uri": "https://localhost:8080/",
     "height": 206
    },
    "id": "lbf9zrnqasr9",
    "outputId": "6e0a180f-ffac-478c-811e-a710375f91cb"
   },
   "outputs": [
    {
     "data": {
      "text/html": [
       "<div>\n",
       "<style scoped>\n",
       "    .dataframe tbody tr th:only-of-type {\n",
       "        vertical-align: middle;\n",
       "    }\n",
       "\n",
       "    .dataframe tbody tr th {\n",
       "        vertical-align: top;\n",
       "    }\n",
       "\n",
       "    .dataframe thead th {\n",
       "        text-align: right;\n",
       "    }\n",
       "</style>\n",
       "<table border=\"1\" class=\"dataframe\">\n",
       "  <thead>\n",
       "    <tr style=\"text-align: right;\">\n",
       "      <th></th>\n",
       "      <th>Age</th>\n",
       "      <th>SystolicBP</th>\n",
       "      <th>DiastolicBP</th>\n",
       "      <th>BS</th>\n",
       "      <th>BodyTemp</th>\n",
       "      <th>HeartRate</th>\n",
       "      <th>RiskLevel</th>\n",
       "    </tr>\n",
       "  </thead>\n",
       "  <tbody>\n",
       "    <tr>\n",
       "      <th>0</th>\n",
       "      <td>-0.305021</td>\n",
       "      <td>1.089310</td>\n",
       "      <td>0.333484</td>\n",
       "      <td>2.354439</td>\n",
       "      <td>-0.491351</td>\n",
       "      <td>1.479009</td>\n",
       "      <td>high risk</td>\n",
       "    </tr>\n",
       "    <tr>\n",
       "      <th>1</th>\n",
       "      <td>0.422139</td>\n",
       "      <td>1.649455</td>\n",
       "      <td>1.061321</td>\n",
       "      <td>1.646744</td>\n",
       "      <td>-0.491351</td>\n",
       "      <td>-0.484676</td>\n",
       "      <td>high risk</td>\n",
       "    </tr>\n",
       "    <tr>\n",
       "      <th>2</th>\n",
       "      <td>-0.014157</td>\n",
       "      <td>-1.151273</td>\n",
       "      <td>-0.394352</td>\n",
       "      <td>-0.122492</td>\n",
       "      <td>0.927758</td>\n",
       "      <td>0.742627</td>\n",
       "      <td>high risk</td>\n",
       "    </tr>\n",
       "    <tr>\n",
       "      <th>3</th>\n",
       "      <td>0.058559</td>\n",
       "      <td>1.649455</td>\n",
       "      <td>0.697402</td>\n",
       "      <td>-0.476340</td>\n",
       "      <td>-0.491351</td>\n",
       "      <td>-0.484676</td>\n",
       "      <td>high risk</td>\n",
       "    </tr>\n",
       "    <tr>\n",
       "      <th>4</th>\n",
       "      <td>0.422139</td>\n",
       "      <td>0.529164</td>\n",
       "      <td>-1.122188</td>\n",
       "      <td>-0.794802</td>\n",
       "      <td>-0.491351</td>\n",
       "      <td>0.251706</td>\n",
       "      <td>low risk</td>\n",
       "    </tr>\n",
       "  </tbody>\n",
       "</table>\n",
       "</div>"
      ],
      "text/plain": [
       "        Age  SystolicBP  DiastolicBP        BS  BodyTemp  HeartRate  RiskLevel\n",
       "0 -0.305021    1.089310     0.333484  2.354439 -0.491351   1.479009  high risk\n",
       "1  0.422139    1.649455     1.061321  1.646744 -0.491351  -0.484676  high risk\n",
       "2 -0.014157   -1.151273    -0.394352 -0.122492  0.927758   0.742627  high risk\n",
       "3  0.058559    1.649455     0.697402 -0.476340 -0.491351  -0.484676  high risk\n",
       "4  0.422139    0.529164    -1.122188 -0.794802 -0.491351   0.251706   low risk"
      ]
     },
     "execution_count": 16,
     "metadata": {},
     "output_type": "execute_result"
    }
   ],
   "source": [
    "df['Age'] = ss.fit_transform(df[['Age']])\n",
    "df['SystolicBP'] = ss.fit_transform(df[['SystolicBP']])\n",
    "df['DiastolicBP'] =ss.fit_transform(df[['DiastolicBP']])\n",
    "df['BS'] = ss.fit_transform(df[['BS']])\n",
    "df['BodyTemp'] = ss.fit_transform(df[['BodyTemp']])\n",
    "df['HeartRate'] = ss.fit_transform(df[['HeartRate']])\n",
    "df.head()"
   ]
  },
  {
   "cell_type": "code",
   "execution_count": 17,
   "metadata": {
    "colab": {
     "base_uri": "https://localhost:8080/"
    },
    "id": "9XaQk8h-uUQM",
    "outputId": "c6fd8052-7996-45a2-d98b-7de5cb975c63"
   },
   "outputs": [
    {
     "data": {
      "text/plain": [
       "array([-0.49135062,  0.92775787,  2.34686636,  1.63731212,  3.05642061,\n",
       "       -0.20752892,  0.21820363, -0.06561807])"
      ]
     },
     "execution_count": 17,
     "metadata": {},
     "output_type": "execute_result"
    }
   ],
   "source": [
    "df['BodyTemp'].unique()"
   ]
  },
  {
   "cell_type": "code",
   "execution_count": 18,
   "metadata": {
    "colab": {
     "base_uri": "https://localhost:8080/"
    },
    "id": "VyF1DgOruWTM",
    "outputId": "38b7683a-85b2-44a4-d44d-935624581bf1"
   },
   "outputs": [
    {
     "data": {
      "text/plain": [
       "array(['high risk', 'low risk', 'mid risk'], dtype=object)"
      ]
     },
     "execution_count": 18,
     "metadata": {},
     "output_type": "execute_result"
    }
   ],
   "source": [
    "df['RiskLevel'].unique()"
   ]
  },
  {
   "cell_type": "code",
   "execution_count": 19,
   "metadata": {
    "colab": {
     "base_uri": "https://localhost:8080/",
     "height": 424
    },
    "id": "IPsx8ymmtzux",
    "outputId": "6104d815-0f0f-4fde-ddb7-6d49b23bfa29"
   },
   "outputs": [
    {
     "data": {
      "text/html": [
       "<div>\n",
       "<style scoped>\n",
       "    .dataframe tbody tr th:only-of-type {\n",
       "        vertical-align: middle;\n",
       "    }\n",
       "\n",
       "    .dataframe tbody tr th {\n",
       "        vertical-align: top;\n",
       "    }\n",
       "\n",
       "    .dataframe thead th {\n",
       "        text-align: right;\n",
       "    }\n",
       "</style>\n",
       "<table border=\"1\" class=\"dataframe\">\n",
       "  <thead>\n",
       "    <tr style=\"text-align: right;\">\n",
       "      <th></th>\n",
       "      <th>Age</th>\n",
       "      <th>SystolicBP</th>\n",
       "      <th>DiastolicBP</th>\n",
       "      <th>BS</th>\n",
       "      <th>BodyTemp</th>\n",
       "      <th>HeartRate</th>\n",
       "      <th>RiskLevel</th>\n",
       "    </tr>\n",
       "  </thead>\n",
       "  <tbody>\n",
       "    <tr>\n",
       "      <th>0</th>\n",
       "      <td>-0.305021</td>\n",
       "      <td>1.089310</td>\n",
       "      <td>0.333484</td>\n",
       "      <td>2.354439</td>\n",
       "      <td>-0.491351</td>\n",
       "      <td>1.479009</td>\n",
       "      <td>3.0</td>\n",
       "    </tr>\n",
       "    <tr>\n",
       "      <th>1</th>\n",
       "      <td>0.422139</td>\n",
       "      <td>1.649455</td>\n",
       "      <td>1.061321</td>\n",
       "      <td>1.646744</td>\n",
       "      <td>-0.491351</td>\n",
       "      <td>-0.484676</td>\n",
       "      <td>3.0</td>\n",
       "    </tr>\n",
       "    <tr>\n",
       "      <th>2</th>\n",
       "      <td>-0.014157</td>\n",
       "      <td>-1.151273</td>\n",
       "      <td>-0.394352</td>\n",
       "      <td>-0.122492</td>\n",
       "      <td>0.927758</td>\n",
       "      <td>0.742627</td>\n",
       "      <td>3.0</td>\n",
       "    </tr>\n",
       "    <tr>\n",
       "      <th>3</th>\n",
       "      <td>0.058559</td>\n",
       "      <td>1.649455</td>\n",
       "      <td>0.697402</td>\n",
       "      <td>-0.476340</td>\n",
       "      <td>-0.491351</td>\n",
       "      <td>-0.484676</td>\n",
       "      <td>3.0</td>\n",
       "    </tr>\n",
       "    <tr>\n",
       "      <th>4</th>\n",
       "      <td>0.422139</td>\n",
       "      <td>0.529164</td>\n",
       "      <td>-1.122188</td>\n",
       "      <td>-0.794802</td>\n",
       "      <td>-0.491351</td>\n",
       "      <td>0.251706</td>\n",
       "      <td>1.0</td>\n",
       "    </tr>\n",
       "    <tr>\n",
       "      <th>...</th>\n",
       "      <td>...</td>\n",
       "      <td>...</td>\n",
       "      <td>...</td>\n",
       "      <td>...</td>\n",
       "      <td>...</td>\n",
       "      <td>...</td>\n",
       "      <td>...</td>\n",
       "    </tr>\n",
       "    <tr>\n",
       "      <th>673</th>\n",
       "      <td>-1.250328</td>\n",
       "      <td>-0.591127</td>\n",
       "      <td>-1.850025</td>\n",
       "      <td>-0.688648</td>\n",
       "      <td>-0.491351</td>\n",
       "      <td>-0.484676</td>\n",
       "      <td>2.0</td>\n",
       "    </tr>\n",
       "    <tr>\n",
       "      <th>674</th>\n",
       "      <td>-1.032180</td>\n",
       "      <td>-0.591127</td>\n",
       "      <td>-1.122188</td>\n",
       "      <td>-0.830187</td>\n",
       "      <td>-0.491351</td>\n",
       "      <td>0.742627</td>\n",
       "      <td>1.0</td>\n",
       "    </tr>\n",
       "    <tr>\n",
       "      <th>703</th>\n",
       "      <td>-1.032180</td>\n",
       "      <td>-0.591127</td>\n",
       "      <td>-1.922808</td>\n",
       "      <td>-0.264031</td>\n",
       "      <td>-0.491351</td>\n",
       "      <td>0.374436</td>\n",
       "      <td>1.0</td>\n",
       "    </tr>\n",
       "    <tr>\n",
       "      <th>704</th>\n",
       "      <td>-1.250328</td>\n",
       "      <td>-0.591127</td>\n",
       "      <td>-1.850025</td>\n",
       "      <td>-0.830187</td>\n",
       "      <td>-0.491351</td>\n",
       "      <td>-0.484676</td>\n",
       "      <td>2.0</td>\n",
       "    </tr>\n",
       "    <tr>\n",
       "      <th>705</th>\n",
       "      <td>-0.595885</td>\n",
       "      <td>-0.591127</td>\n",
       "      <td>-1.850025</td>\n",
       "      <td>-0.547109</td>\n",
       "      <td>-0.491351</td>\n",
       "      <td>-1.711980</td>\n",
       "      <td>1.0</td>\n",
       "    </tr>\n",
       "  </tbody>\n",
       "</table>\n",
       "<p>452 rows × 7 columns</p>\n",
       "</div>"
      ],
      "text/plain": [
       "          Age  SystolicBP  DiastolicBP        BS  BodyTemp  HeartRate  \\\n",
       "0   -0.305021    1.089310     0.333484  2.354439 -0.491351   1.479009   \n",
       "1    0.422139    1.649455     1.061321  1.646744 -0.491351  -0.484676   \n",
       "2   -0.014157   -1.151273    -0.394352 -0.122492  0.927758   0.742627   \n",
       "3    0.058559    1.649455     0.697402 -0.476340 -0.491351  -0.484676   \n",
       "4    0.422139    0.529164    -1.122188 -0.794802 -0.491351   0.251706   \n",
       "..        ...         ...          ...       ...       ...        ...   \n",
       "673 -1.250328   -0.591127    -1.850025 -0.688648 -0.491351  -0.484676   \n",
       "674 -1.032180   -0.591127    -1.122188 -0.830187 -0.491351   0.742627   \n",
       "703 -1.032180   -0.591127    -1.922808 -0.264031 -0.491351   0.374436   \n",
       "704 -1.250328   -0.591127    -1.850025 -0.830187 -0.491351  -0.484676   \n",
       "705 -0.595885   -0.591127    -1.850025 -0.547109 -0.491351  -1.711980   \n",
       "\n",
       "     RiskLevel  \n",
       "0          3.0  \n",
       "1          3.0  \n",
       "2          3.0  \n",
       "3          3.0  \n",
       "4          1.0  \n",
       "..         ...  \n",
       "673        2.0  \n",
       "674        1.0  \n",
       "703        1.0  \n",
       "704        2.0  \n",
       "705        1.0  \n",
       "\n",
       "[452 rows x 7 columns]"
      ]
     },
     "execution_count": 19,
     "metadata": {},
     "output_type": "execute_result"
    }
   ],
   "source": [
    "RiskLevel = {'low risk':1, \n",
    "        'mid risk':2, \n",
    "        'high risk':3}\n",
    "\n",
    "# apply using map\n",
    "df['RiskLevel'] = df['RiskLevel'].map(RiskLevel).astype(float)\n",
    "df\n"
   ]
  },
  {
   "cell_type": "code",
   "execution_count": 20,
   "metadata": {
    "colab": {
     "base_uri": "https://localhost:8080/"
    },
    "id": "uBTHcRZNuAAD",
    "outputId": "92b997d6-f338-4d52-b134-b67bd1280198"
   },
   "outputs": [
    {
     "data": {
      "text/plain": [
       "1.0    234\n",
       "3.0    112\n",
       "2.0    106\n",
       "Name: RiskLevel, dtype: int64"
      ]
     },
     "execution_count": 20,
     "metadata": {},
     "output_type": "execute_result"
    }
   ],
   "source": [
    "df['RiskLevel'].value_counts()"
   ]
  },
  {
   "cell_type": "code",
   "execution_count": 21,
   "metadata": {
    "colab": {
     "base_uri": "https://localhost:8080/",
     "height": 300
    },
    "id": "Lyl4CySNul2z",
    "outputId": "77684222-37aa-4825-d66a-65aebe609854"
   },
   "outputs": [
    {
     "data": {
      "text/html": [
       "<div>\n",
       "<style scoped>\n",
       "    .dataframe tbody tr th:only-of-type {\n",
       "        vertical-align: middle;\n",
       "    }\n",
       "\n",
       "    .dataframe tbody tr th {\n",
       "        vertical-align: top;\n",
       "    }\n",
       "\n",
       "    .dataframe thead th {\n",
       "        text-align: right;\n",
       "    }\n",
       "</style>\n",
       "<table border=\"1\" class=\"dataframe\">\n",
       "  <thead>\n",
       "    <tr style=\"text-align: right;\">\n",
       "      <th></th>\n",
       "      <th>Age</th>\n",
       "      <th>SystolicBP</th>\n",
       "      <th>DiastolicBP</th>\n",
       "      <th>BS</th>\n",
       "      <th>BodyTemp</th>\n",
       "      <th>HeartRate</th>\n",
       "      <th>RiskLevel</th>\n",
       "    </tr>\n",
       "  </thead>\n",
       "  <tbody>\n",
       "    <tr>\n",
       "      <th>count</th>\n",
       "      <td>4.520000e+02</td>\n",
       "      <td>4.520000e+02</td>\n",
       "      <td>4.520000e+02</td>\n",
       "      <td>4.520000e+02</td>\n",
       "      <td>4.520000e+02</td>\n",
       "      <td>4.520000e+02</td>\n",
       "      <td>452.000000</td>\n",
       "    </tr>\n",
       "    <tr>\n",
       "      <th>mean</th>\n",
       "      <td>-2.019034e-16</td>\n",
       "      <td>1.498310e-16</td>\n",
       "      <td>6.022714e-16</td>\n",
       "      <td>3.758056e-17</td>\n",
       "      <td>-1.002394e-15</td>\n",
       "      <td>-3.910343e-16</td>\n",
       "      <td>1.730088</td>\n",
       "    </tr>\n",
       "    <tr>\n",
       "      <th>std</th>\n",
       "      <td>1.001108e+00</td>\n",
       "      <td>1.001108e+00</td>\n",
       "      <td>1.001108e+00</td>\n",
       "      <td>1.001108e+00</td>\n",
       "      <td>1.001108e+00</td>\n",
       "      <td>1.001108e+00</td>\n",
       "      <td>0.833169</td>\n",
       "    </tr>\n",
       "    <tr>\n",
       "      <th>min</th>\n",
       "      <td>-1.395760e+00</td>\n",
       "      <td>-2.271564e+00</td>\n",
       "      <td>-1.922808e+00</td>\n",
       "      <td>-8.301869e-01</td>\n",
       "      <td>-4.913506e-01</td>\n",
       "      <td>-8.216687e+00</td>\n",
       "      <td>1.000000</td>\n",
       "    </tr>\n",
       "    <tr>\n",
       "      <th>25%</th>\n",
       "      <td>-7.413166e-01</td>\n",
       "      <td>-1.151273e+00</td>\n",
       "      <td>-7.582701e-01</td>\n",
       "      <td>-5.117243e-01</td>\n",
       "      <td>-4.913506e-01</td>\n",
       "      <td>-4.846762e-01</td>\n",
       "      <td>1.000000</td>\n",
       "    </tr>\n",
       "    <tr>\n",
       "      <th>50%</th>\n",
       "      <td>-3.050209e-01</td>\n",
       "      <td>5.291641e-01</td>\n",
       "      <td>3.334843e-01</td>\n",
       "      <td>-2.994159e-01</td>\n",
       "      <td>-4.913506e-01</td>\n",
       "      <td>2.517058e-01</td>\n",
       "      <td>1.000000</td>\n",
       "    </tr>\n",
       "    <tr>\n",
       "      <th>75%</th>\n",
       "      <td>4.221386e-01</td>\n",
       "      <td>5.291641e-01</td>\n",
       "      <td>7.701860e-01</td>\n",
       "      <td>-1.578770e-01</td>\n",
       "      <td>-4.913506e-01</td>\n",
       "      <td>7.426271e-01</td>\n",
       "      <td>2.000000</td>\n",
       "    </tr>\n",
       "    <tr>\n",
       "      <th>max</th>\n",
       "      <td>2.967197e+00</td>\n",
       "      <td>2.769747e+00</td>\n",
       "      <td>1.789157e+00</td>\n",
       "      <td>3.769828e+00</td>\n",
       "      <td>3.056421e+00</td>\n",
       "      <td>1.969931e+00</td>\n",
       "      <td>3.000000</td>\n",
       "    </tr>\n",
       "  </tbody>\n",
       "</table>\n",
       "</div>"
      ],
      "text/plain": [
       "                Age    SystolicBP   DiastolicBP            BS      BodyTemp  \\\n",
       "count  4.520000e+02  4.520000e+02  4.520000e+02  4.520000e+02  4.520000e+02   \n",
       "mean  -2.019034e-16  1.498310e-16  6.022714e-16  3.758056e-17 -1.002394e-15   \n",
       "std    1.001108e+00  1.001108e+00  1.001108e+00  1.001108e+00  1.001108e+00   \n",
       "min   -1.395760e+00 -2.271564e+00 -1.922808e+00 -8.301869e-01 -4.913506e-01   \n",
       "25%   -7.413166e-01 -1.151273e+00 -7.582701e-01 -5.117243e-01 -4.913506e-01   \n",
       "50%   -3.050209e-01  5.291641e-01  3.334843e-01 -2.994159e-01 -4.913506e-01   \n",
       "75%    4.221386e-01  5.291641e-01  7.701860e-01 -1.578770e-01 -4.913506e-01   \n",
       "max    2.967197e+00  2.769747e+00  1.789157e+00  3.769828e+00  3.056421e+00   \n",
       "\n",
       "          HeartRate   RiskLevel  \n",
       "count  4.520000e+02  452.000000  \n",
       "mean  -3.910343e-16    1.730088  \n",
       "std    1.001108e+00    0.833169  \n",
       "min   -8.216687e+00    1.000000  \n",
       "25%   -4.846762e-01    1.000000  \n",
       "50%    2.517058e-01    1.000000  \n",
       "75%    7.426271e-01    2.000000  \n",
       "max    1.969931e+00    3.000000  "
      ]
     },
     "execution_count": 21,
     "metadata": {},
     "output_type": "execute_result"
    }
   ],
   "source": [
    "df.describe()"
   ]
  },
  {
   "cell_type": "markdown",
   "metadata": {
    "id": "ilpfLHvoFxe6"
   },
   "source": [
    "Corrélations"
   ]
  },
  {
   "cell_type": "code",
   "execution_count": 22,
   "metadata": {
    "colab": {
     "base_uri": "https://localhost:8080/",
     "height": 112
    },
    "id": "AEBhi0cRuqRZ",
    "outputId": "fce3f085-10d0-40e3-91f6-5e9aa4360c99"
   },
   "outputs": [
    {
     "data": {
      "text/html": [
       "<div>\n",
       "<style scoped>\n",
       "    .dataframe tbody tr th:only-of-type {\n",
       "        vertical-align: middle;\n",
       "    }\n",
       "\n",
       "    .dataframe tbody tr th {\n",
       "        vertical-align: top;\n",
       "    }\n",
       "\n",
       "    .dataframe thead th {\n",
       "        text-align: right;\n",
       "    }\n",
       "</style>\n",
       "<table border=\"1\" class=\"dataframe\">\n",
       "  <thead>\n",
       "    <tr style=\"text-align: right;\">\n",
       "      <th></th>\n",
       "      <th>RiskLevel</th>\n",
       "      <th>Age</th>\n",
       "    </tr>\n",
       "  </thead>\n",
       "  <tbody>\n",
       "    <tr>\n",
       "      <th>RiskLevel</th>\n",
       "      <td>1.00000</td>\n",
       "      <td>0.18301</td>\n",
       "    </tr>\n",
       "    <tr>\n",
       "      <th>Age</th>\n",
       "      <td>0.18301</td>\n",
       "      <td>1.00000</td>\n",
       "    </tr>\n",
       "  </tbody>\n",
       "</table>\n",
       "</div>"
      ],
      "text/plain": [
       "           RiskLevel      Age\n",
       "RiskLevel    1.00000  0.18301\n",
       "Age          0.18301  1.00000"
      ]
     },
     "execution_count": 22,
     "metadata": {},
     "output_type": "execute_result"
    }
   ],
   "source": [
    "df[['RiskLevel','Age']].corr()"
   ]
  },
  {
   "cell_type": "code",
   "execution_count": 23,
   "metadata": {
    "colab": {
     "base_uri": "https://localhost:8080/",
     "height": 112
    },
    "id": "xiUROY9hurHP",
    "outputId": "8e944f35-5082-41cf-e26a-6f6af00c9cfa"
   },
   "outputs": [
    {
     "data": {
      "text/html": [
       "<div>\n",
       "<style scoped>\n",
       "    .dataframe tbody tr th:only-of-type {\n",
       "        vertical-align: middle;\n",
       "    }\n",
       "\n",
       "    .dataframe tbody tr th {\n",
       "        vertical-align: top;\n",
       "    }\n",
       "\n",
       "    .dataframe thead th {\n",
       "        text-align: right;\n",
       "    }\n",
       "</style>\n",
       "<table border=\"1\" class=\"dataframe\">\n",
       "  <thead>\n",
       "    <tr style=\"text-align: right;\">\n",
       "      <th></th>\n",
       "      <th>RiskLevel</th>\n",
       "      <th>SystolicBP</th>\n",
       "    </tr>\n",
       "  </thead>\n",
       "  <tbody>\n",
       "    <tr>\n",
       "      <th>RiskLevel</th>\n",
       "      <td>1.000000</td>\n",
       "      <td>0.327365</td>\n",
       "    </tr>\n",
       "    <tr>\n",
       "      <th>SystolicBP</th>\n",
       "      <td>0.327365</td>\n",
       "      <td>1.000000</td>\n",
       "    </tr>\n",
       "  </tbody>\n",
       "</table>\n",
       "</div>"
      ],
      "text/plain": [
       "            RiskLevel  SystolicBP\n",
       "RiskLevel    1.000000    0.327365\n",
       "SystolicBP   0.327365    1.000000"
      ]
     },
     "execution_count": 23,
     "metadata": {},
     "output_type": "execute_result"
    }
   ],
   "source": [
    "df[['RiskLevel','SystolicBP']].corr()"
   ]
  },
  {
   "cell_type": "code",
   "execution_count": 24,
   "metadata": {
    "id": "cinWta8-wdSc"
   },
   "outputs": [],
   "source": [
    "X = df.drop('RiskLevel',axis=1)\n",
    "y = df['RiskLevel']"
   ]
  },
  {
   "cell_type": "code",
   "execution_count": 25,
   "metadata": {
    "colab": {
     "base_uri": "https://localhost:8080/",
     "height": 424
    },
    "id": "exCtgPqdwhOg",
    "outputId": "0ead9e33-d78d-42f7-b95f-bbf24af88ce4"
   },
   "outputs": [
    {
     "data": {
      "text/html": [
       "<div>\n",
       "<style scoped>\n",
       "    .dataframe tbody tr th:only-of-type {\n",
       "        vertical-align: middle;\n",
       "    }\n",
       "\n",
       "    .dataframe tbody tr th {\n",
       "        vertical-align: top;\n",
       "    }\n",
       "\n",
       "    .dataframe thead th {\n",
       "        text-align: right;\n",
       "    }\n",
       "</style>\n",
       "<table border=\"1\" class=\"dataframe\">\n",
       "  <thead>\n",
       "    <tr style=\"text-align: right;\">\n",
       "      <th></th>\n",
       "      <th>Age</th>\n",
       "      <th>SystolicBP</th>\n",
       "      <th>DiastolicBP</th>\n",
       "      <th>BS</th>\n",
       "      <th>BodyTemp</th>\n",
       "      <th>HeartRate</th>\n",
       "    </tr>\n",
       "  </thead>\n",
       "  <tbody>\n",
       "    <tr>\n",
       "      <th>0</th>\n",
       "      <td>-0.305021</td>\n",
       "      <td>1.089310</td>\n",
       "      <td>0.333484</td>\n",
       "      <td>2.354439</td>\n",
       "      <td>-0.491351</td>\n",
       "      <td>1.479009</td>\n",
       "    </tr>\n",
       "    <tr>\n",
       "      <th>1</th>\n",
       "      <td>0.422139</td>\n",
       "      <td>1.649455</td>\n",
       "      <td>1.061321</td>\n",
       "      <td>1.646744</td>\n",
       "      <td>-0.491351</td>\n",
       "      <td>-0.484676</td>\n",
       "    </tr>\n",
       "    <tr>\n",
       "      <th>2</th>\n",
       "      <td>-0.014157</td>\n",
       "      <td>-1.151273</td>\n",
       "      <td>-0.394352</td>\n",
       "      <td>-0.122492</td>\n",
       "      <td>0.927758</td>\n",
       "      <td>0.742627</td>\n",
       "    </tr>\n",
       "    <tr>\n",
       "      <th>3</th>\n",
       "      <td>0.058559</td>\n",
       "      <td>1.649455</td>\n",
       "      <td>0.697402</td>\n",
       "      <td>-0.476340</td>\n",
       "      <td>-0.491351</td>\n",
       "      <td>-0.484676</td>\n",
       "    </tr>\n",
       "    <tr>\n",
       "      <th>4</th>\n",
       "      <td>0.422139</td>\n",
       "      <td>0.529164</td>\n",
       "      <td>-1.122188</td>\n",
       "      <td>-0.794802</td>\n",
       "      <td>-0.491351</td>\n",
       "      <td>0.251706</td>\n",
       "    </tr>\n",
       "    <tr>\n",
       "      <th>...</th>\n",
       "      <td>...</td>\n",
       "      <td>...</td>\n",
       "      <td>...</td>\n",
       "      <td>...</td>\n",
       "      <td>...</td>\n",
       "      <td>...</td>\n",
       "    </tr>\n",
       "    <tr>\n",
       "      <th>673</th>\n",
       "      <td>-1.250328</td>\n",
       "      <td>-0.591127</td>\n",
       "      <td>-1.850025</td>\n",
       "      <td>-0.688648</td>\n",
       "      <td>-0.491351</td>\n",
       "      <td>-0.484676</td>\n",
       "    </tr>\n",
       "    <tr>\n",
       "      <th>674</th>\n",
       "      <td>-1.032180</td>\n",
       "      <td>-0.591127</td>\n",
       "      <td>-1.122188</td>\n",
       "      <td>-0.830187</td>\n",
       "      <td>-0.491351</td>\n",
       "      <td>0.742627</td>\n",
       "    </tr>\n",
       "    <tr>\n",
       "      <th>703</th>\n",
       "      <td>-1.032180</td>\n",
       "      <td>-0.591127</td>\n",
       "      <td>-1.922808</td>\n",
       "      <td>-0.264031</td>\n",
       "      <td>-0.491351</td>\n",
       "      <td>0.374436</td>\n",
       "    </tr>\n",
       "    <tr>\n",
       "      <th>704</th>\n",
       "      <td>-1.250328</td>\n",
       "      <td>-0.591127</td>\n",
       "      <td>-1.850025</td>\n",
       "      <td>-0.830187</td>\n",
       "      <td>-0.491351</td>\n",
       "      <td>-0.484676</td>\n",
       "    </tr>\n",
       "    <tr>\n",
       "      <th>705</th>\n",
       "      <td>-0.595885</td>\n",
       "      <td>-0.591127</td>\n",
       "      <td>-1.850025</td>\n",
       "      <td>-0.547109</td>\n",
       "      <td>-0.491351</td>\n",
       "      <td>-1.711980</td>\n",
       "    </tr>\n",
       "  </tbody>\n",
       "</table>\n",
       "<p>452 rows × 6 columns</p>\n",
       "</div>"
      ],
      "text/plain": [
       "          Age  SystolicBP  DiastolicBP        BS  BodyTemp  HeartRate\n",
       "0   -0.305021    1.089310     0.333484  2.354439 -0.491351   1.479009\n",
       "1    0.422139    1.649455     1.061321  1.646744 -0.491351  -0.484676\n",
       "2   -0.014157   -1.151273    -0.394352 -0.122492  0.927758   0.742627\n",
       "3    0.058559    1.649455     0.697402 -0.476340 -0.491351  -0.484676\n",
       "4    0.422139    0.529164    -1.122188 -0.794802 -0.491351   0.251706\n",
       "..        ...         ...          ...       ...       ...        ...\n",
       "673 -1.250328   -0.591127    -1.850025 -0.688648 -0.491351  -0.484676\n",
       "674 -1.032180   -0.591127    -1.122188 -0.830187 -0.491351   0.742627\n",
       "703 -1.032180   -0.591127    -1.922808 -0.264031 -0.491351   0.374436\n",
       "704 -1.250328   -0.591127    -1.850025 -0.830187 -0.491351  -0.484676\n",
       "705 -0.595885   -0.591127    -1.850025 -0.547109 -0.491351  -1.711980\n",
       "\n",
       "[452 rows x 6 columns]"
      ]
     },
     "execution_count": 25,
     "metadata": {},
     "output_type": "execute_result"
    }
   ],
   "source": [
    "X"
   ]
  },
  {
   "cell_type": "code",
   "execution_count": 26,
   "metadata": {
    "colab": {
     "base_uri": "https://localhost:8080/"
    },
    "id": "5Cqdnv8bxEuM",
    "outputId": "2b91a4d9-2439-42e6-96a6-a04f6b00adb4"
   },
   "outputs": [
    {
     "data": {
      "text/plain": [
       "0      3.0\n",
       "1      3.0\n",
       "2      3.0\n",
       "3      3.0\n",
       "4      1.0\n",
       "      ... \n",
       "673    2.0\n",
       "674    1.0\n",
       "703    1.0\n",
       "704    2.0\n",
       "705    1.0\n",
       "Name: RiskLevel, Length: 452, dtype: float64"
      ]
     },
     "execution_count": 26,
     "metadata": {},
     "output_type": "execute_result"
    }
   ],
   "source": [
    "y"
   ]
  },
  {
   "cell_type": "markdown",
   "metadata": {
    "id": "XtzXypnKF1wi"
   },
   "source": [
    "Splitting The dataset"
   ]
  },
  {
   "cell_type": "code",
   "execution_count": 27,
   "metadata": {
    "colab": {
     "base_uri": "https://localhost:8080/"
    },
    "id": "Md1rOKr5BodJ",
    "outputId": "f4c3b46f-70fa-4f79-c4d0-1409c3211ea7"
   },
   "outputs": [
    {
     "data": {
      "text/plain": [
       "425    3.0\n",
       "39     1.0\n",
       "492    2.0\n",
       "484    1.0\n",
       "192    3.0\n",
       "      ... \n",
       "29     1.0\n",
       "171    3.0\n",
       "377    1.0\n",
       "26     1.0\n",
       "7      3.0\n",
       "Name: RiskLevel, Length: 136, dtype: float64"
      ]
     },
     "execution_count": 27,
     "metadata": {},
     "output_type": "execute_result"
    }
   ],
   "source": [
    "X_train,X_test,y_train,y_test=train_test_split(X,y,test_size=0.3,\n",
    "                                               random_state=42)\n",
    "y_test"
   ]
  },
  {
   "cell_type": "code",
   "execution_count": 28,
   "metadata": {
    "colab": {
     "base_uri": "https://localhost:8080/"
    },
    "id": "m14UtAz2sMoH",
    "outputId": "21ea1742-2e3a-4aed-e8b0-faf5c2f765e6"
   },
   "outputs": [
    {
     "name": "stdout",
     "output_type": "stream",
     "text": [
      "Training Shape x: (316, 6)\n",
      "Testing Shape x: (136, 6)\n",
      "*****___________*****___________*****\n",
      "Training Shape y: (316,)\n",
      "Testing Shape y: (136,)\n"
     ]
    }
   ],
   "source": [
    "print(f'Training Shape x:',X_train.shape)\n",
    "print(f'Testing Shape x:',X_test.shape)\n",
    "print('*****___________*****___________*****')\n",
    "print(f'Training Shape y:',y_train.shape)\n",
    "print(f'Testing Shape y:',y_test.shape)"
   ]
  },
  {
   "cell_type": "code",
   "execution_count": 29,
   "metadata": {
    "id": "FFHatx1asZgH"
   },
   "outputs": [],
   "source": [
    "#StandardScaler\n",
    "\n",
    "ss = StandardScaler()\n",
    "\n",
    "X_train = ss.fit_transform(X_train)\n",
    "\n",
    "X_test= ss.transform(X_test)"
   ]
  },
  {
   "cell_type": "markdown",
   "metadata": {
    "id": "ZUOuopPkxrL7"
   },
   "source": [
    "**XGBoost**"
   ]
  },
  {
   "cell_type": "code",
   "execution_count": 30,
   "metadata": {},
   "outputs": [
    {
     "name": "stdout",
     "output_type": "stream",
     "text": [
      "Collecting xgboost\n",
      "  Downloading xgboost-1.7.1-py3-none-win_amd64.whl (89.1 MB)\n",
      "     -                                        4.0/89.1 MB 3.6 kB/s eta 6:31:13\n"
     ]
    },
    {
     "name": "stderr",
     "output_type": "stream",
     "text": [
      "WARNING: Ignoring invalid distribution -cipy (c:\\users\\admin\\anaconda3\\nouveau dossier\\lib\\site-packages)\n",
      "WARNING: Ignoring invalid distribution -cipy (c:\\users\\admin\\anaconda3\\nouveau dossier\\lib\\site-packages)\n",
      "ERROR: Exception:\n",
      "Traceback (most recent call last):\n",
      "  File \"C:\\Users\\admin\\anaconda3\\Nouveau dossier\\lib\\site-packages\\pip\\_vendor\\urllib3\\response.py\", line 435, in _error_catcher\n",
      "    yield\n",
      "  File \"C:\\Users\\admin\\anaconda3\\Nouveau dossier\\lib\\site-packages\\pip\\_vendor\\urllib3\\response.py\", line 516, in read\n",
      "    data = self._fp.read(amt) if not fp_closed else b\"\"\n",
      "  File \"C:\\Users\\admin\\anaconda3\\Nouveau dossier\\lib\\site-packages\\pip\\_vendor\\cachecontrol\\filewrapper.py\", line 90, in read\n",
      "    data = self.__fp.read(amt)\n",
      "  File \"C:\\Users\\admin\\anaconda3\\Nouveau dossier\\lib\\http\\client.py\", line 463, in read\n",
      "    n = self.readinto(b)\n",
      "  File \"C:\\Users\\admin\\anaconda3\\Nouveau dossier\\lib\\http\\client.py\", line 507, in readinto\n",
      "    n = self.fp.readinto(b)\n",
      "  File \"C:\\Users\\admin\\anaconda3\\Nouveau dossier\\lib\\socket.py\", line 704, in readinto\n",
      "    return self._sock.recv_into(b)\n",
      "  File \"C:\\Users\\admin\\anaconda3\\Nouveau dossier\\lib\\ssl.py\", line 1242, in recv_into\n",
      "    return self.read(nbytes, buffer)\n",
      "  File \"C:\\Users\\admin\\anaconda3\\Nouveau dossier\\lib\\ssl.py\", line 1100, in read\n",
      "    return self._sslobj.read(len, buffer)\n",
      "socket.timeout: The read operation timed out\n",
      "\n",
      "During handling of the above exception, another exception occurred:\n",
      "\n",
      "Traceback (most recent call last):\n",
      "  File \"C:\\Users\\admin\\anaconda3\\Nouveau dossier\\lib\\site-packages\\pip\\_internal\\cli\\base_command.py\", line 167, in exc_logging_wrapper\n",
      "    status = run_func(*args)\n",
      "  File \"C:\\Users\\admin\\anaconda3\\Nouveau dossier\\lib\\site-packages\\pip\\_internal\\cli\\req_command.py\", line 247, in wrapper\n",
      "    return func(self, options, args)\n",
      "  File \"C:\\Users\\admin\\anaconda3\\Nouveau dossier\\lib\\site-packages\\pip\\_internal\\commands\\install.py\", line 369, in run\n",
      "    requirement_set = resolver.resolve(\n",
      "  File \"C:\\Users\\admin\\anaconda3\\Nouveau dossier\\lib\\site-packages\\pip\\_internal\\resolution\\resolvelib\\resolver.py\", line 92, in resolve\n",
      "    result = self._result = resolver.resolve(\n",
      "  File \"C:\\Users\\admin\\anaconda3\\Nouveau dossier\\lib\\site-packages\\pip\\_vendor\\resolvelib\\resolvers.py\", line 481, in resolve\n",
      "    state = resolution.resolve(requirements, max_rounds=max_rounds)\n",
      "  File \"C:\\Users\\admin\\anaconda3\\Nouveau dossier\\lib\\site-packages\\pip\\_vendor\\resolvelib\\resolvers.py\", line 348, in resolve\n",
      "    self._add_to_criteria(self.state.criteria, r, parent=None)\n",
      "  File \"C:\\Users\\admin\\anaconda3\\Nouveau dossier\\lib\\site-packages\\pip\\_vendor\\resolvelib\\resolvers.py\", line 172, in _add_to_criteria\n",
      "    if not criterion.candidates:\n",
      "  File \"C:\\Users\\admin\\anaconda3\\Nouveau dossier\\lib\\site-packages\\pip\\_vendor\\resolvelib\\structs.py\", line 151, in __bool__\n",
      "    return bool(self._sequence)\n",
      "  File \"C:\\Users\\admin\\anaconda3\\Nouveau dossier\\lib\\site-packages\\pip\\_internal\\resolution\\resolvelib\\found_candidates.py\", line 155, in __bool__\n",
      "    return any(self)\n",
      "  File \"C:\\Users\\admin\\anaconda3\\Nouveau dossier\\lib\\site-packages\\pip\\_internal\\resolution\\resolvelib\\found_candidates.py\", line 143, in <genexpr>\n",
      "    return (c for c in iterator if id(c) not in self._incompatible_ids)\n",
      "  File \"C:\\Users\\admin\\anaconda3\\Nouveau dossier\\lib\\site-packages\\pip\\_internal\\resolution\\resolvelib\\found_candidates.py\", line 47, in _iter_built\n",
      "    candidate = func()\n",
      "  File \"C:\\Users\\admin\\anaconda3\\Nouveau dossier\\lib\\site-packages\\pip\\_internal\\resolution\\resolvelib\\factory.py\", line 206, in _make_candidate_from_link\n",
      "    self._link_candidate_cache[link] = LinkCandidate(\n",
      "  File \"C:\\Users\\admin\\anaconda3\\Nouveau dossier\\lib\\site-packages\\pip\\_internal\\resolution\\resolvelib\\candidates.py\", line 297, in __init__\n",
      "    super().__init__(\n",
      "  File \"C:\\Users\\admin\\anaconda3\\Nouveau dossier\\lib\\site-packages\\pip\\_internal\\resolution\\resolvelib\\candidates.py\", line 162, in __init__\n",
      "    self.dist = self._prepare()\n",
      "  File \"C:\\Users\\admin\\anaconda3\\Nouveau dossier\\lib\\site-packages\\pip\\_internal\\resolution\\resolvelib\\candidates.py\", line 231, in _prepare\n",
      "    dist = self._prepare_distribution()\n",
      "  File \"C:\\Users\\admin\\anaconda3\\Nouveau dossier\\lib\\site-packages\\pip\\_internal\\resolution\\resolvelib\\candidates.py\", line 308, in _prepare_distribution\n",
      "    return preparer.prepare_linked_requirement(self._ireq, parallel_builds=True)\n",
      "  File \"C:\\Users\\admin\\anaconda3\\Nouveau dossier\\lib\\site-packages\\pip\\_internal\\operations\\prepare.py\", line 438, in prepare_linked_requirement\n",
      "    return self._prepare_linked_requirement(req, parallel_builds)\n",
      "  File \"C:\\Users\\admin\\anaconda3\\Nouveau dossier\\lib\\site-packages\\pip\\_internal\\operations\\prepare.py\", line 483, in _prepare_linked_requirement\n",
      "    local_file = unpack_url(\n",
      "  File \"C:\\Users\\admin\\anaconda3\\Nouveau dossier\\lib\\site-packages\\pip\\_internal\\operations\\prepare.py\", line 165, in unpack_url\n",
      "    file = get_http_url(\n",
      "  File \"C:\\Users\\admin\\anaconda3\\Nouveau dossier\\lib\\site-packages\\pip\\_internal\\operations\\prepare.py\", line 106, in get_http_url\n",
      "    from_path, content_type = download(link, temp_dir.path)\n",
      "  File \"C:\\Users\\admin\\anaconda3\\Nouveau dossier\\lib\\site-packages\\pip\\_internal\\network\\download.py\", line 147, in __call__\n",
      "    for chunk in chunks:\n",
      "  File \"C:\\Users\\admin\\anaconda3\\Nouveau dossier\\lib\\site-packages\\pip\\_internal\\cli\\progress_bars.py\", line 53, in _rich_progress_bar\n",
      "    for chunk in iterable:\n",
      "  File \"C:\\Users\\admin\\anaconda3\\Nouveau dossier\\lib\\site-packages\\pip\\_internal\\network\\utils.py\", line 63, in response_chunks\n",
      "    for chunk in response.raw.stream(\n",
      "  File \"C:\\Users\\admin\\anaconda3\\Nouveau dossier\\lib\\site-packages\\pip\\_vendor\\urllib3\\response.py\", line 573, in stream\n",
      "    data = self.read(amt=amt, decode_content=decode_content)\n",
      "  File \"C:\\Users\\admin\\anaconda3\\Nouveau dossier\\lib\\site-packages\\pip\\_vendor\\urllib3\\response.py\", line 538, in read\n",
      "    raise IncompleteRead(self._fp_bytes_read, self.length_remaining)\n",
      "  File \"C:\\Users\\admin\\anaconda3\\Nouveau dossier\\lib\\contextlib.py\", line 137, in __exit__\n",
      "    self.gen.throw(typ, value, traceback)\n",
      "  File \"C:\\Users\\admin\\anaconda3\\Nouveau dossier\\lib\\site-packages\\pip\\_vendor\\urllib3\\response.py\", line 440, in _error_catcher\n",
      "    raise ReadTimeoutError(self._pool, None, \"Read timed out.\")\n",
      "pip._vendor.urllib3.exceptions.ReadTimeoutError: HTTPSConnectionPool(host='files.pythonhosted.org', port=443): Read timed out.\n",
      "WARNING: Ignoring invalid distribution -cipy (c:\\users\\admin\\anaconda3\\nouveau dossier\\lib\\site-packages)\n",
      "WARNING: Ignoring invalid distribution -cipy (c:\\users\\admin\\anaconda3\\nouveau dossier\\lib\\site-packages)\n",
      "WARNING: Ignoring invalid distribution -cipy (c:\\users\\admin\\anaconda3\\nouveau dossier\\lib\\site-packages)\n"
     ]
    }
   ],
   "source": [
    "!pip install xgboost"
   ]
  },
  {
   "cell_type": "code",
   "execution_count": 31,
   "metadata": {
    "id": "-lFdw6QRslKy"
   },
   "outputs": [
    {
     "ename": "ModuleNotFoundError",
     "evalue": "No module named 'xgboost'",
     "output_type": "error",
     "traceback": [
      "\u001b[1;31m---------------------------------------------------------------------------\u001b[0m",
      "\u001b[1;31mModuleNotFoundError\u001b[0m                       Traceback (most recent call last)",
      "\u001b[1;32m~\\AppData\\Local\\Temp\\ipykernel_9740\\1240840671.py\u001b[0m in \u001b[0;36m<module>\u001b[1;34m\u001b[0m\n\u001b[0;32m      1\u001b[0m \u001b[1;31m#Applying XGBoost\u001b[0m\u001b[1;33m\u001b[0m\u001b[1;33m\u001b[0m\u001b[0m\n\u001b[1;32m----> 2\u001b[1;33m \u001b[1;32mimport\u001b[0m \u001b[0mxgboost\u001b[0m \u001b[1;32mas\u001b[0m \u001b[0mxgb\u001b[0m\u001b[1;33m\u001b[0m\u001b[1;33m\u001b[0m\u001b[0m\n\u001b[0m",
      "\u001b[1;31mModuleNotFoundError\u001b[0m: No module named 'xgboost'"
     ]
    }
   ],
   "source": [
    "#Applying XGBoost\n",
    "import xgboost as xgb"
   ]
  },
  {
   "cell_type": "code",
   "execution_count": 32,
   "metadata": {
    "id": "DMWbTZGmxyhk"
   },
   "outputs": [
    {
     "ename": "NameError",
     "evalue": "name 'xgb' is not defined",
     "output_type": "error",
     "traceback": [
      "\u001b[1;31m---------------------------------------------------------------------------\u001b[0m",
      "\u001b[1;31mNameError\u001b[0m                                 Traceback (most recent call last)",
      "\u001b[1;32m~\\AppData\\Local\\Temp\\ipykernel_9740\\3779219162.py\u001b[0m in \u001b[0;36m<module>\u001b[1;34m\u001b[0m\n\u001b[0;32m      1\u001b[0m \u001b[1;31m#Create XGBClassifier\u001b[0m\u001b[1;33m\u001b[0m\u001b[1;33m\u001b[0m\u001b[0m\n\u001b[1;32m----> 2\u001b[1;33m \u001b[0mxgb_clf\u001b[0m \u001b[1;33m=\u001b[0m \u001b[0mxgb\u001b[0m\u001b[1;33m.\u001b[0m\u001b[0mXGBClassifier\u001b[0m\u001b[1;33m(\u001b[0m\u001b[0mobjective\u001b[0m\u001b[1;33m=\u001b[0m\u001b[1;34m'multi:softmax'\u001b[0m\u001b[1;33m)\u001b[0m\u001b[1;33m\u001b[0m\u001b[1;33m\u001b[0m\u001b[0m\n\u001b[0m",
      "\u001b[1;31mNameError\u001b[0m: name 'xgb' is not defined"
     ]
    }
   ],
   "source": [
    "#Create XGBClassifier\n",
    "xgb_clf = xgb.XGBClassifier(objective='multi:softmax')"
   ]
  },
  {
   "cell_type": "code",
   "execution_count": null,
   "metadata": {
    "id": "bOvR7uLvyANF"
   },
   "outputs": [],
   "source": [
    "#train model\n",
    "xgb_clf = xgb_clf.fit(X_train, y_train)"
   ]
  },
  {
   "cell_type": "code",
   "execution_count": null,
   "metadata": {
    "colab": {
     "base_uri": "https://localhost:8080/"
    },
    "id": "hW5sOluEyIHr",
    "outputId": "fca81a24-7363-43e6-ea71-50339e0bec08"
   },
   "outputs": [],
   "source": [
    "print(\"Train accuracy:\",xgb_clf.score(X_train,y_train))\n",
    "print(\"Test accuracy:\",xgb_clf.score(X_test,y_test))"
   ]
  },
  {
   "cell_type": "code",
   "execution_count": null,
   "metadata": {
    "colab": {
     "base_uri": "https://localhost:8080/"
    },
    "id": "-EEuvyI1yLcB",
    "outputId": "831aadda-2b57-4b58-a52b-e33b60884dd1"
   },
   "outputs": [],
   "source": [
    "y_pred = xgb_clf.predict(X_test)\n",
    "print(y_pred)\n",
    "cm = confusion_matrix(y_test, y_pred)\n",
    "print(f'CM:',cm)\n",
    "print(f'Accuracy:',accuracy_score(y_test, y_pred)* 100 ,'%')\n",
    "print(classification_report(y_test, xgb_clf.predict(X_test)))"
   ]
  },
  {
   "cell_type": "markdown",
   "metadata": {
    "id": "15uXYwsjw7G9"
   },
   "source": [
    "RandomForest"
   ]
  },
  {
   "cell_type": "code",
   "execution_count": 33,
   "metadata": {
    "id": "dc1gqBNks77T"
   },
   "outputs": [],
   "source": [
    "#Applying RandomForest\n",
    "from sklearn.ensemble import RandomForestClassifier"
   ]
  },
  {
   "cell_type": "code",
   "execution_count": 34,
   "metadata": {
    "id": "7vTPFdFixGE5"
   },
   "outputs": [],
   "source": [
    "#Create Random Forest object\n",
    "random_forest = RandomForestClassifier()"
   ]
  },
  {
   "cell_type": "code",
   "execution_count": 35,
   "metadata": {
    "colab": {
     "base_uri": "https://localhost:8080/"
    },
    "id": "_B2RpGXixMPR",
    "outputId": "4ca2208a-865e-4268-8057-0e4bdf6cba54"
   },
   "outputs": [
    {
     "data": {
      "text/plain": [
       "RandomForestClassifier()"
      ]
     },
     "execution_count": 35,
     "metadata": {},
     "output_type": "execute_result"
    }
   ],
   "source": [
    "#Train model\n",
    "random_forest.fit(X_train, y_train)"
   ]
  },
  {
   "cell_type": "code",
   "execution_count": 36,
   "metadata": {
    "colab": {
     "base_uri": "https://localhost:8080/"
    },
    "id": "94AtSZPCxaNH",
    "outputId": "8b5da423-faf3-4884-abed-4d4e969b3fea"
   },
   "outputs": [
    {
     "name": "stdout",
     "output_type": "stream",
     "text": [
      "Train accuracy: 0.9430379746835443\n",
      "Test accuracy: 0.6470588235294118\n"
     ]
    }
   ],
   "source": [
    "print(\"Train accuracy:\",random_forest.score(X_train,y_train))\n",
    "print(\"Test accuracy:\",random_forest.score(X_test,y_test))"
   ]
  },
  {
   "cell_type": "code",
   "execution_count": 37,
   "metadata": {
    "colab": {
     "base_uri": "https://localhost:8080/"
    },
    "id": "jDEJbRkLxfTS",
    "outputId": "917c362d-2a63-45ca-93ec-441cce1949cf"
   },
   "outputs": [
    {
     "name": "stdout",
     "output_type": "stream",
     "text": [
      "[3. 1. 2. 2. 2. 1. 3. 3. 1. 1. 3. 3. 1. 1. 1. 1. 1. 1. 1. 1. 1. 2. 1. 3.\n",
      " 3. 1. 1. 1. 2. 1. 1. 1. 1. 2. 1. 1. 1. 2. 3. 1. 1. 2. 1. 2. 1. 3. 2. 3.\n",
      " 1. 1. 1. 1. 1. 1. 1. 1. 1. 1. 1. 1. 1. 3. 1. 1. 1. 1. 1. 1. 1. 2. 3. 3.\n",
      " 1. 2. 3. 1. 1. 1. 1. 3. 3. 2. 2. 1. 1. 1. 1. 1. 1. 1. 2. 1. 3. 3. 2. 2.\n",
      " 2. 1. 3. 1. 2. 3. 2. 1. 3. 1. 1. 1. 3. 2. 2. 1. 3. 3. 1. 1. 3. 3. 1. 2.\n",
      " 3. 2. 1. 1. 1. 1. 3. 1. 3. 1. 1. 1. 3. 1. 1. 3.]\n",
      "CM: [[54  9  2]\n",
      " [24 10  5]\n",
      " [ 3  5 24]]\n",
      "Accuracy: 64.70588235294117 %\n",
      "              precision    recall  f1-score   support\n",
      "\n",
      "         1.0       0.67      0.83      0.74        65\n",
      "         2.0       0.42      0.26      0.32        39\n",
      "         3.0       0.77      0.75      0.76        32\n",
      "\n",
      "    accuracy                           0.65       136\n",
      "   macro avg       0.62      0.61      0.61       136\n",
      "weighted avg       0.62      0.65      0.62       136\n",
      "\n"
     ]
    }
   ],
   "source": [
    "y_pred = random_forest.predict(X_test)\n",
    "print(y_pred)\n",
    "cm = confusion_matrix(y_test, y_pred)\n",
    "print(f'CM:',cm)\n",
    "print(f'Accuracy:',accuracy_score(y_test, y_pred)* 100 ,'%')\n",
    "print(classification_report(y_test, random_forest.predict(X_test)))"
   ]
  },
  {
   "cell_type": "markdown",
   "metadata": {
    "id": "U0nKB2HVGHG0"
   },
   "source": [
    "Logistic regression\n"
   ]
  },
  {
   "cell_type": "code",
   "execution_count": 38,
   "metadata": {
    "id": "YRxIkdU1iUgM"
   },
   "outputs": [],
   "source": [
    "from sklearn.linear_model import LogisticRegression"
   ]
  },
  {
   "cell_type": "code",
   "execution_count": 39,
   "metadata": {
    "colab": {
     "base_uri": "https://localhost:8080/"
    },
    "id": "5LaMlsSjH9e0",
    "outputId": "851c1e4a-ff79-418c-91a1-bff202ef6124"
   },
   "outputs": [
    {
     "data": {
      "text/plain": [
       "LogisticRegression()"
      ]
     },
     "execution_count": 39,
     "metadata": {},
     "output_type": "execute_result"
    }
   ],
   "source": [
    "lr = LogisticRegression()\n",
    "lr.fit(X_train , y_train)"
   ]
  },
  {
   "cell_type": "code",
   "execution_count": 40,
   "metadata": {
    "colab": {
     "base_uri": "https://localhost:8080/"
    },
    "id": "fJc75F_nIgVU",
    "outputId": "9c7b2d3c-32c7-4ec2-9040-434408f3763f"
   },
   "outputs": [
    {
     "data": {
      "text/plain": [
       "0.6835443037974683"
      ]
     },
     "execution_count": 40,
     "metadata": {},
     "output_type": "execute_result"
    }
   ],
   "source": [
    "lr.score(X_train , y_train)"
   ]
  },
  {
   "cell_type": "code",
   "execution_count": 41,
   "metadata": {
    "colab": {
     "base_uri": "https://localhost:8080/"
    },
    "id": "7qAO4aErL1el",
    "outputId": "e7c61e65-5aeb-446c-b960-a9ea858f771f"
   },
   "outputs": [
    {
     "data": {
      "text/plain": [
       "0.6397058823529411"
      ]
     },
     "execution_count": 41,
     "metadata": {},
     "output_type": "execute_result"
    }
   ],
   "source": [
    "lr.score(X_test , y_test)"
   ]
  },
  {
   "cell_type": "code",
   "execution_count": 42,
   "metadata": {
    "colab": {
     "base_uri": "https://localhost:8080/"
    },
    "id": "0cs0JYi6LxQe",
    "outputId": "a934ecec-68a4-46b1-b090-f577a37aaa44"
   },
   "outputs": [
    {
     "name": "stdout",
     "output_type": "stream",
     "text": [
      "[3. 1. 2. 1. 1. 1. 3. 1. 1. 1. 3. 1. 1. 1. 1. 1. 1. 1. 1. 1. 1. 1. 3. 3.\n",
      " 3. 1. 1. 1. 3. 1. 1. 3. 1. 3. 1. 1. 1. 1. 3. 1. 1. 1. 1. 1. 1. 3. 2. 1.\n",
      " 1. 1. 1. 1. 1. 1. 1. 1. 1. 1. 1. 1. 1. 3. 1. 3. 1. 1. 1. 1. 1. 1. 3. 1.\n",
      " 1. 1. 3. 1. 1. 1. 1. 3. 3. 1. 1. 1. 1. 1. 1. 1. 1. 1. 1. 1. 1. 3. 1. 2.\n",
      " 1. 1. 3. 3. 1. 3. 2. 1. 3. 3. 1. 1. 3. 1. 2. 1. 2. 3. 1. 1. 3. 3. 1. 3.\n",
      " 1. 3. 1. 1. 1. 1. 3. 1. 3. 1. 1. 1. 1. 1. 1. 3.]\n",
      "CM: [[62  0  3]\n",
      " [27  4  8]\n",
      " [ 9  2 21]]\n",
      "Accuracy: 63.970588235294116 %\n",
      "              precision    recall  f1-score   support\n",
      "\n",
      "         1.0       0.63      0.95      0.76        65\n",
      "         2.0       0.67      0.10      0.18        39\n",
      "         3.0       0.66      0.66      0.66        32\n",
      "\n",
      "    accuracy                           0.64       136\n",
      "   macro avg       0.65      0.57      0.53       136\n",
      "weighted avg       0.65      0.64      0.57       136\n",
      "\n"
     ]
    }
   ],
   "source": [
    "y_pred =lr.predict(X_test)\n",
    "print(y_pred)\n",
    "cm = confusion_matrix(y_test, y_pred)\n",
    "print(f'CM:',cm)\n",
    "print(f'Accuracy:',accuracy_score(y_test, y_pred)* 100 ,'%')\n",
    "print(classification_report(y_test, lr.predict(X_test)))"
   ]
  },
  {
   "cell_type": "markdown",
   "metadata": {
    "id": "IRxD8cSXyx9C"
   },
   "source": [
    "GaussianNB"
   ]
  },
  {
   "cell_type": "code",
   "execution_count": 43,
   "metadata": {
    "id": "kDpnxzKYypUz"
   },
   "outputs": [],
   "source": [
    "#Applying GaussianNB\n",
    "from sklearn.naive_bayes import GaussianNB"
   ]
  },
  {
   "cell_type": "code",
   "execution_count": 44,
   "metadata": {
    "id": "rdnyL4E-y93m"
   },
   "outputs": [],
   "source": [
    "nb = GaussianNB()"
   ]
  },
  {
   "cell_type": "code",
   "execution_count": 45,
   "metadata": {
    "colab": {
     "base_uri": "https://localhost:8080/"
    },
    "id": "wWtO0VW3zEXM",
    "outputId": "5ecfc37c-a981-4024-e80a-29a926e29f34"
   },
   "outputs": [
    {
     "data": {
      "text/plain": [
       "GaussianNB()"
      ]
     },
     "execution_count": 45,
     "metadata": {},
     "output_type": "execute_result"
    }
   ],
   "source": [
    "nb.fit(X_train , y_train)"
   ]
  },
  {
   "cell_type": "code",
   "execution_count": 46,
   "metadata": {
    "colab": {
     "base_uri": "https://localhost:8080/"
    },
    "id": "6cJoaUVjzG25",
    "outputId": "dd39b317-e232-4a27-eb80-cab9ae1bbbeb"
   },
   "outputs": [
    {
     "name": "stdout",
     "output_type": "stream",
     "text": [
      "Train accuracy: 0.6708860759493671\n",
      "Test accuracy: 0.6323529411764706\n"
     ]
    }
   ],
   "source": [
    "print(\"Train accuracy:\",nb.score(X_train,y_train))\n",
    "print(\"Test accuracy:\",nb.score(X_test,y_test))"
   ]
  },
  {
   "cell_type": "code",
   "execution_count": 47,
   "metadata": {
    "colab": {
     "base_uri": "https://localhost:8080/"
    },
    "id": "Y-mfMZSnzKmR",
    "outputId": "4860be91-f346-42af-9e82-f035a3146717"
   },
   "outputs": [
    {
     "name": "stdout",
     "output_type": "stream",
     "text": [
      "[3. 1. 1. 1. 1. 1. 3. 1. 1. 1. 3. 3. 1. 1. 1. 1. 1. 1. 1. 1. 1. 1. 3. 3.\n",
      " 2. 1. 1. 1. 3. 1. 1. 3. 1. 3. 1. 1. 1. 1. 3. 1. 1. 1. 1. 1. 1. 3. 1. 1.\n",
      " 1. 1. 1. 1. 1. 1. 1. 1. 1. 1. 1. 1. 1. 3. 1. 2. 1. 1. 1. 1. 1. 1. 3. 1.\n",
      " 1. 1. 3. 1. 1. 1. 1. 3. 3. 1. 1. 1. 1. 1. 1. 1. 1. 1. 1. 1. 1. 3. 1. 1.\n",
      " 1. 1. 3. 2. 1. 3. 1. 1. 3. 1. 1. 1. 3. 1. 1. 1. 2. 2. 1. 1. 3. 3. 1. 1.\n",
      " 1. 1. 1. 1. 1. 1. 3. 1. 3. 1. 1. 1. 1. 1. 1. 3.]\n",
      "CM: [[63  0  2]\n",
      " [32  3  4]\n",
      " [10  2 20]]\n",
      "Accuracy: 63.23529411764706 %\n",
      "              precision    recall  f1-score   support\n",
      "\n",
      "         1.0       0.60      0.97      0.74        65\n",
      "         2.0       0.60      0.08      0.14        39\n",
      "         3.0       0.77      0.62      0.69        32\n",
      "\n",
      "    accuracy                           0.63       136\n",
      "   macro avg       0.66      0.56      0.52       136\n",
      "weighted avg       0.64      0.63      0.56       136\n",
      "\n"
     ]
    }
   ],
   "source": [
    "y_pred = nb.predict(X_test)\n",
    "print(y_pred)\n",
    "cm = confusion_matrix(y_test, y_pred)\n",
    "print(f'CM:',cm)\n",
    "print(f'Accuracy:',accuracy_score(y_test, y_pred)* 100 ,'%')\n",
    "print(classification_report(y_test, nb.predict(X_test)))"
   ]
  },
  {
   "cell_type": "markdown",
   "metadata": {
    "id": "i-TqurNafIYv"
   },
   "source": [
    "Deep Learning\n"
   ]
  },
  {
   "cell_type": "markdown",
   "metadata": {},
   "source": [
    "<h1>visualisation</h1>"
   ]
  },
  {
   "cell_type": "code",
   "execution_count": 49,
   "metadata": {},
   "outputs": [
    {
     "name": "stdout",
     "output_type": "stream",
     "text": [
      "[3.]\n",
      "The risk level is high risk\n"
     ]
    }
   ],
   "source": [
    "input_data = (25,144,87,18,90,88)\n",
    "\n",
    "# changing the input_data to numpy array\n",
    "input_data_as_numpy_array = np.asarray(input_data)\n",
    "\n",
    "# reshape the array as we are predicting for one instance\n",
    "input_data_reshaped = input_data_as_numpy_array.reshape(1,-1)\n",
    "\n",
    "prediction = random_forest.predict(input_data_reshaped)\n",
    "print(prediction)\n",
    "\n",
    "if (prediction[0] == 1):\n",
    "  print('The risk level is low risk')\n",
    "elif (prediction[0] == 2):\n",
    "  print('The risk level is mid risk')\n",
    "else:\n",
    "  print('The risk level is high risk')"
   ]
  },
  {
   "cell_type": "code",
   "execution_count": 50,
   "metadata": {},
   "outputs": [],
   "source": [
    "import pickle"
   ]
  },
  {
   "cell_type": "code",
   "execution_count": null,
   "metadata": {},
   "outputs": [],
   "source": [
    "\n",
    "filename = 'trained_model.sav'\n",
    "pickle.dump(random_forest, open(filename, 'wb'))\n",
    "os.get_exec_path()"
   ]
  },
  {
   "cell_type": "code",
   "execution_count": null,
   "metadata": {},
   "outputs": [],
   "source": [
    "import os\n",
    "os.getcwd()"
   ]
  },
  {
   "cell_type": "code",
   "execution_count": null,
   "metadata": {},
   "outputs": [],
   "source": [
    "# loading the saved model\n",
    "loaded_model = pickle.load(open('trained_model.sav', 'rb'))\n",
    "location"
   ]
  },
  {
   "cell_type": "code",
   "execution_count": null,
   "metadata": {},
   "outputs": [],
   "source": [
    "input_data = (5,166,72,19,175,25.8,0.587,51)\n",
    "\n",
    "# changing the input_data to numpy array\n",
    "input_data_as_numpy_array = np.asarray(input_data)\n",
    "\n",
    "# reshape the array as we are predicting for one instance\n",
    "input_data_reshaped = input_data_as_numpy_array.reshape(1,-1)\n",
    "\n",
    "prediction = loaded_model.predict(input_data_reshaped)\n",
    "print(prediction)\n",
    "\n",
    "if (prediction[0] == 1):\n",
    "  print('The risk level is low risk')\n",
    "elif (prediction[0] == 2):\n",
    "  print('The risk level is mid risk')\n",
    "else:\n",
    "  print('The risk level is high risk')"
   ]
  }
 ],
 "metadata": {
  "colab": {
   "provenance": []
  },
  "kernelspec": {
   "display_name": "Python 3 (ipykernel)",
   "language": "python",
   "name": "python3"
  },
  "language_info": {
   "codemirror_mode": {
    "name": "ipython",
    "version": 3
   },
   "file_extension": ".py",
   "mimetype": "text/x-python",
   "name": "python",
   "nbconvert_exporter": "python",
   "pygments_lexer": "ipython3",
   "version": "3.9.13"
  }
 },
 "nbformat": 4,
 "nbformat_minor": 1
}
